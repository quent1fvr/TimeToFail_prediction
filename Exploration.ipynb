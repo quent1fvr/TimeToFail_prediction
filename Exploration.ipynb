{
 "cells": [
  {
   "cell_type": "code",
   "execution_count": 1,
   "metadata": {},
   "outputs": [
    {
     "data": {
      "text/html": [
       "<div>\n",
       "<style scoped>\n",
       "    .dataframe tbody tr th:only-of-type {\n",
       "        vertical-align: middle;\n",
       "    }\n",
       "\n",
       "    .dataframe tbody tr th {\n",
       "        vertical-align: top;\n",
       "    }\n",
       "\n",
       "    .dataframe thead th {\n",
       "        text-align: right;\n",
       "    }\n",
       "</style>\n",
       "<table border=\"1\" class=\"dataframe\">\n",
       "  <thead>\n",
       "    <tr style=\"text-align: right;\">\n",
       "      <th></th>\n",
       "      <th>cycle</th>\n",
       "      <th>s1</th>\n",
       "      <th>s2</th>\n",
       "      <th>s3</th>\n",
       "      <th>s4</th>\n",
       "      <th>ttf</th>\n",
       "    </tr>\n",
       "  </thead>\n",
       "  <tbody>\n",
       "    <tr>\n",
       "      <th>0</th>\n",
       "      <td>0.000000</td>\n",
       "      <td>0.309757</td>\n",
       "      <td>0.726248</td>\n",
       "      <td>0.369048</td>\n",
       "      <td>0.633262</td>\n",
       "      <td>191</td>\n",
       "    </tr>\n",
       "    <tr>\n",
       "      <th>1</th>\n",
       "      <td>0.002770</td>\n",
       "      <td>0.352633</td>\n",
       "      <td>0.628019</td>\n",
       "      <td>0.380952</td>\n",
       "      <td>0.765458</td>\n",
       "      <td>190</td>\n",
       "    </tr>\n",
       "    <tr>\n",
       "      <th>2</th>\n",
       "      <td>0.005540</td>\n",
       "      <td>0.370527</td>\n",
       "      <td>0.710145</td>\n",
       "      <td>0.250000</td>\n",
       "      <td>0.795309</td>\n",
       "      <td>189</td>\n",
       "    </tr>\n",
       "    <tr>\n",
       "      <th>3</th>\n",
       "      <td>0.008310</td>\n",
       "      <td>0.331195</td>\n",
       "      <td>0.740741</td>\n",
       "      <td>0.166667</td>\n",
       "      <td>0.889126</td>\n",
       "      <td>188</td>\n",
       "    </tr>\n",
       "    <tr>\n",
       "      <th>4</th>\n",
       "      <td>0.011080</td>\n",
       "      <td>0.404625</td>\n",
       "      <td>0.668277</td>\n",
       "      <td>0.255952</td>\n",
       "      <td>0.746269</td>\n",
       "      <td>187</td>\n",
       "    </tr>\n",
       "    <tr>\n",
       "      <th>...</th>\n",
       "      <td>...</td>\n",
       "      <td>...</td>\n",
       "      <td>...</td>\n",
       "      <td>...</td>\n",
       "      <td>...</td>\n",
       "      <td>...</td>\n",
       "    </tr>\n",
       "    <tr>\n",
       "      <th>20626</th>\n",
       "      <td>0.540166</td>\n",
       "      <td>0.782917</td>\n",
       "      <td>0.254428</td>\n",
       "      <td>0.726190</td>\n",
       "      <td>0.170576</td>\n",
       "      <td>4</td>\n",
       "    </tr>\n",
       "    <tr>\n",
       "      <th>20627</th>\n",
       "      <td>0.542936</td>\n",
       "      <td>0.866475</td>\n",
       "      <td>0.162641</td>\n",
       "      <td>0.708333</td>\n",
       "      <td>0.211087</td>\n",
       "      <td>3</td>\n",
       "    </tr>\n",
       "    <tr>\n",
       "      <th>20628</th>\n",
       "      <td>0.545706</td>\n",
       "      <td>0.775321</td>\n",
       "      <td>0.175523</td>\n",
       "      <td>0.738095</td>\n",
       "      <td>0.281450</td>\n",
       "      <td>2</td>\n",
       "    </tr>\n",
       "    <tr>\n",
       "      <th>20629</th>\n",
       "      <td>0.548476</td>\n",
       "      <td>0.747468</td>\n",
       "      <td>0.133655</td>\n",
       "      <td>0.916667</td>\n",
       "      <td>0.208955</td>\n",
       "      <td>1</td>\n",
       "    </tr>\n",
       "    <tr>\n",
       "      <th>20630</th>\n",
       "      <td>0.551247</td>\n",
       "      <td>0.842167</td>\n",
       "      <td>0.151369</td>\n",
       "      <td>0.803571</td>\n",
       "      <td>0.130064</td>\n",
       "      <td>0</td>\n",
       "    </tr>\n",
       "  </tbody>\n",
       "</table>\n",
       "<p>20631 rows × 6 columns</p>\n",
       "</div>"
      ],
      "text/plain": [
       "          cycle        s1        s2        s3        s4  ttf\n",
       "0      0.000000  0.309757  0.726248  0.369048  0.633262  191\n",
       "1      0.002770  0.352633  0.628019  0.380952  0.765458  190\n",
       "2      0.005540  0.370527  0.710145  0.250000  0.795309  189\n",
       "3      0.008310  0.331195  0.740741  0.166667  0.889126  188\n",
       "4      0.011080  0.404625  0.668277  0.255952  0.746269  187\n",
       "...         ...       ...       ...       ...       ...  ...\n",
       "20626  0.540166  0.782917  0.254428  0.726190  0.170576    4\n",
       "20627  0.542936  0.866475  0.162641  0.708333  0.211087    3\n",
       "20628  0.545706  0.775321  0.175523  0.738095  0.281450    2\n",
       "20629  0.548476  0.747468  0.133655  0.916667  0.208955    1\n",
       "20630  0.551247  0.842167  0.151369  0.803571  0.130064    0\n",
       "\n",
       "[20631 rows x 6 columns]"
      ]
     },
     "execution_count": 1,
     "metadata": {},
     "output_type": "execute_result"
    }
   ],
   "source": [
    "import seaborn as sns\n",
    "import os\n",
    "import pandas as pd\n",
    "import numpy as np\n",
    "np.random.seed(1337)\n",
    "from IPython.display import Image\n",
    "import matplotlib as mpl\n",
    "import matplotlib.pyplot as plt\n",
    "from pandas import read_csv\n",
    "from matplotlib import pyplot as plt\n",
    "from sklearn.metrics import mean_squared_error\n",
    "from sklearn.ensemble import GradientBoostingRegressor\n",
    "from sklearn.model_selection import cross_val_score\n",
    "from sklearn.preprocessing import StandardScaler\n",
    "from sklearn.pipeline import Pipeline\n",
    "from sklearn.preprocessing import MinMaxScaler\n",
    "from sklearn.model_selection import TimeSeriesSplit\n",
    "from sklearn.model_selection import KFold\n",
    "import numpy as np\n",
    "import matplotlib.pyplot as plt\n",
    "from matplotlib.patches import Patch\n",
    "import seaborn as sns \n",
    "\n",
    "import sklearn\n",
    "from sklearn.linear_model import ElasticNet\n",
    "from sklearn.multioutput import MultiOutputRegressor\n",
    "from sklearn.model_selection import cross_val_score\n",
    "from sklearn.model_selection import GridSearchCV\n",
    "train = pd.read_csv('/Users/quent1/Desktop/Cranfield assignment/Statistical learning methods/code/train_selected.csv')\n",
    "test = pd.read_csv('/Users/quent1/Desktop/Cranfield assignment/Statistical learning methods/code/test_selected.csv')\n",
    "test_ttf = pd.read_csv('/Users/quent1/Desktop/Cranfield assignment/Statistical learning methods/code/test_selected_ttf.csv')\n",
    "scaler = MinMaxScaler()\n",
    "\n",
    "train =train.drop(['label_bnc'],axis=1)\n",
    "train =train.drop(['id'],axis=1)\n",
    "test =test.drop(['id'],axis=1)\n",
    "\n",
    "ntrain = train.copy()\n",
    "ntrain.iloc[:,0:5] = scaler.fit_transform(ntrain.iloc[:,0:5])\n",
    "ntest = test.copy()\n",
    "ntrain\n"
   ]
  },
  {
   "cell_type": "code",
   "execution_count": 10,
   "metadata": {},
   "outputs": [
    {
     "data": {
      "text/html": [
       "<div>\n",
       "<style scoped>\n",
       "    .dataframe tbody tr th:only-of-type {\n",
       "        vertical-align: middle;\n",
       "    }\n",
       "\n",
       "    .dataframe tbody tr th {\n",
       "        vertical-align: top;\n",
       "    }\n",
       "\n",
       "    .dataframe thead th {\n",
       "        text-align: right;\n",
       "    }\n",
       "</style>\n",
       "<table border=\"1\" class=\"dataframe\">\n",
       "  <thead>\n",
       "    <tr style=\"text-align: right;\">\n",
       "      <th></th>\n",
       "      <th>0</th>\n",
       "      <th>1</th>\n",
       "      <th>2</th>\n",
       "      <th>3</th>\n",
       "      <th>4</th>\n",
       "      <th>5</th>\n",
       "    </tr>\n",
       "  </thead>\n",
       "  <tbody>\n",
       "    <tr>\n",
       "      <th>0</th>\n",
       "      <td>id</td>\n",
       "      <td>cycle</td>\n",
       "      <td>s1</td>\n",
       "      <td>s2</td>\n",
       "      <td>s3</td>\n",
       "      <td>s4</td>\n",
       "    </tr>\n",
       "  </tbody>\n",
       "</table>\n",
       "</div>"
      ],
      "text/plain": [
       "    0      1   2   3   4   5\n",
       "0  id  cycle  s1  s2  s3  s4"
      ]
     },
     "execution_count": 10,
     "metadata": {},
     "output_type": "execute_result"
    }
   ],
   "source": [
    "pd.DataFrame(ntest.columns).T\n"
   ]
  },
  {
   "cell_type": "code",
   "execution_count": 33,
   "metadata": {},
   "outputs": [
    {
     "data": {
      "text/html": [
       "<div>\n",
       "<style scoped>\n",
       "    .dataframe tbody tr th:only-of-type {\n",
       "        vertical-align: middle;\n",
       "    }\n",
       "\n",
       "    .dataframe tbody tr th {\n",
       "        vertical-align: top;\n",
       "    }\n",
       "\n",
       "    .dataframe thead th {\n",
       "        text-align: right;\n",
       "    }\n",
       "</style>\n",
       "<table border=\"1\" class=\"dataframe\">\n",
       "  <thead>\n",
       "    <tr style=\"text-align: right;\">\n",
       "      <th></th>\n",
       "      <th>cycle</th>\n",
       "      <th>s1</th>\n",
       "      <th>s2</th>\n",
       "      <th>s3</th>\n",
       "      <th>s4</th>\n",
       "    </tr>\n",
       "  </thead>\n",
       "  <tbody>\n",
       "    <tr>\n",
       "      <th>0</th>\n",
       "      <td>0.083102</td>\n",
       "      <td>0.281229</td>\n",
       "      <td>0.735910</td>\n",
       "      <td>0.226190</td>\n",
       "      <td>0.660981</td>\n",
       "    </tr>\n",
       "    <tr>\n",
       "      <th>1</th>\n",
       "      <td>0.132964</td>\n",
       "      <td>0.482444</td>\n",
       "      <td>0.590982</td>\n",
       "      <td>0.488095</td>\n",
       "      <td>0.650320</td>\n",
       "    </tr>\n",
       "    <tr>\n",
       "      <th>2</th>\n",
       "      <td>0.346260</td>\n",
       "      <td>0.618501</td>\n",
       "      <td>0.441224</td>\n",
       "      <td>0.613095</td>\n",
       "      <td>0.456290</td>\n",
       "    </tr>\n",
       "    <tr>\n",
       "      <th>3</th>\n",
       "      <td>0.290859</td>\n",
       "      <td>0.415766</td>\n",
       "      <td>0.449275</td>\n",
       "      <td>0.476190</td>\n",
       "      <td>0.680171</td>\n",
       "    </tr>\n",
       "    <tr>\n",
       "      <th>4</th>\n",
       "      <td>0.268698</td>\n",
       "      <td>0.626435</td>\n",
       "      <td>0.553945</td>\n",
       "      <td>0.363095</td>\n",
       "      <td>0.492537</td>\n",
       "    </tr>\n",
       "    <tr>\n",
       "      <th>...</th>\n",
       "      <td>...</td>\n",
       "      <td>...</td>\n",
       "      <td>...</td>\n",
       "      <td>...</td>\n",
       "      <td>...</td>\n",
       "    </tr>\n",
       "    <tr>\n",
       "      <th>95</th>\n",
       "      <td>0.265928</td>\n",
       "      <td>0.264855</td>\n",
       "      <td>0.666667</td>\n",
       "      <td>0.172619</td>\n",
       "      <td>0.769723</td>\n",
       "    </tr>\n",
       "    <tr>\n",
       "      <th>96</th>\n",
       "      <td>0.368421</td>\n",
       "      <td>0.483964</td>\n",
       "      <td>0.676329</td>\n",
       "      <td>0.315476</td>\n",
       "      <td>0.616205</td>\n",
       "    </tr>\n",
       "    <tr>\n",
       "      <th>97</th>\n",
       "      <td>0.332410</td>\n",
       "      <td>0.560770</td>\n",
       "      <td>0.578100</td>\n",
       "      <td>0.482143</td>\n",
       "      <td>0.605544</td>\n",
       "    </tr>\n",
       "    <tr>\n",
       "      <th>98</th>\n",
       "      <td>0.265928</td>\n",
       "      <td>0.265530</td>\n",
       "      <td>0.789050</td>\n",
       "      <td>0.244048</td>\n",
       "      <td>0.667377</td>\n",
       "    </tr>\n",
       "    <tr>\n",
       "      <th>99</th>\n",
       "      <td>0.545706</td>\n",
       "      <td>0.721472</td>\n",
       "      <td>0.423510</td>\n",
       "      <td>0.565476</td>\n",
       "      <td>0.507463</td>\n",
       "    </tr>\n",
       "  </tbody>\n",
       "</table>\n",
       "<p>100 rows × 5 columns</p>\n",
       "</div>"
      ],
      "text/plain": [
       "       cycle        s1        s2        s3        s4\n",
       "0   0.083102  0.281229  0.735910  0.226190  0.660981\n",
       "1   0.132964  0.482444  0.590982  0.488095  0.650320\n",
       "2   0.346260  0.618501  0.441224  0.613095  0.456290\n",
       "3   0.290859  0.415766  0.449275  0.476190  0.680171\n",
       "4   0.268698  0.626435  0.553945  0.363095  0.492537\n",
       "..       ...       ...       ...       ...       ...\n",
       "95  0.265928  0.264855  0.666667  0.172619  0.769723\n",
       "96  0.368421  0.483964  0.676329  0.315476  0.616205\n",
       "97  0.332410  0.560770  0.578100  0.482143  0.605544\n",
       "98  0.265928  0.265530  0.789050  0.244048  0.667377\n",
       "99  0.545706  0.721472  0.423510  0.565476  0.507463\n",
       "\n",
       "[100 rows x 5 columns]"
      ]
     },
     "execution_count": 33,
     "metadata": {},
     "output_type": "execute_result"
    }
   ],
   "source": [
    "ntest.iloc[:,0:5] = scaler.transform(ntest.iloc[:,0:5])\n",
    "ntest"
   ]
  },
  {
   "cell_type": "code",
   "execution_count": 48,
   "metadata": {},
   "outputs": [
    {
     "data": {
      "text/html": [
       "<div>\n",
       "<style scoped>\n",
       "    .dataframe tbody tr th:only-of-type {\n",
       "        vertical-align: middle;\n",
       "    }\n",
       "\n",
       "    .dataframe tbody tr th {\n",
       "        vertical-align: top;\n",
       "    }\n",
       "\n",
       "    .dataframe thead th {\n",
       "        text-align: right;\n",
       "    }\n",
       "</style>\n",
       "<table border=\"1\" class=\"dataframe\">\n",
       "  <thead>\n",
       "    <tr style=\"text-align: right;\">\n",
       "      <th></th>\n",
       "      <th>cycle</th>\n",
       "      <th>s1</th>\n",
       "      <th>s2</th>\n",
       "      <th>s3</th>\n",
       "      <th>s4</th>\n",
       "      <th>ttf</th>\n",
       "    </tr>\n",
       "  </thead>\n",
       "  <tbody>\n",
       "    <tr>\n",
       "      <th>0</th>\n",
       "      <td>0.000000</td>\n",
       "      <td>0.309757</td>\n",
       "      <td>0.726248</td>\n",
       "      <td>0.369048</td>\n",
       "      <td>0.633262</td>\n",
       "      <td>191</td>\n",
       "    </tr>\n",
       "    <tr>\n",
       "      <th>1</th>\n",
       "      <td>0.002770</td>\n",
       "      <td>0.352633</td>\n",
       "      <td>0.628019</td>\n",
       "      <td>0.380952</td>\n",
       "      <td>0.765458</td>\n",
       "      <td>190</td>\n",
       "    </tr>\n",
       "    <tr>\n",
       "      <th>2</th>\n",
       "      <td>0.005540</td>\n",
       "      <td>0.370527</td>\n",
       "      <td>0.710145</td>\n",
       "      <td>0.250000</td>\n",
       "      <td>0.795309</td>\n",
       "      <td>189</td>\n",
       "    </tr>\n",
       "    <tr>\n",
       "      <th>3</th>\n",
       "      <td>0.008310</td>\n",
       "      <td>0.331195</td>\n",
       "      <td>0.740741</td>\n",
       "      <td>0.166667</td>\n",
       "      <td>0.889126</td>\n",
       "      <td>188</td>\n",
       "    </tr>\n",
       "    <tr>\n",
       "      <th>4</th>\n",
       "      <td>0.011080</td>\n",
       "      <td>0.404625</td>\n",
       "      <td>0.668277</td>\n",
       "      <td>0.255952</td>\n",
       "      <td>0.746269</td>\n",
       "      <td>187</td>\n",
       "    </tr>\n",
       "    <tr>\n",
       "      <th>...</th>\n",
       "      <td>...</td>\n",
       "      <td>...</td>\n",
       "      <td>...</td>\n",
       "      <td>...</td>\n",
       "      <td>...</td>\n",
       "      <td>...</td>\n",
       "    </tr>\n",
       "    <tr>\n",
       "      <th>20626</th>\n",
       "      <td>0.540166</td>\n",
       "      <td>0.782917</td>\n",
       "      <td>0.254428</td>\n",
       "      <td>0.726190</td>\n",
       "      <td>0.170576</td>\n",
       "      <td>4</td>\n",
       "    </tr>\n",
       "    <tr>\n",
       "      <th>20627</th>\n",
       "      <td>0.542936</td>\n",
       "      <td>0.866475</td>\n",
       "      <td>0.162641</td>\n",
       "      <td>0.708333</td>\n",
       "      <td>0.211087</td>\n",
       "      <td>3</td>\n",
       "    </tr>\n",
       "    <tr>\n",
       "      <th>20628</th>\n",
       "      <td>0.545706</td>\n",
       "      <td>0.775321</td>\n",
       "      <td>0.175523</td>\n",
       "      <td>0.738095</td>\n",
       "      <td>0.281450</td>\n",
       "      <td>2</td>\n",
       "    </tr>\n",
       "    <tr>\n",
       "      <th>20629</th>\n",
       "      <td>0.548476</td>\n",
       "      <td>0.747468</td>\n",
       "      <td>0.133655</td>\n",
       "      <td>0.916667</td>\n",
       "      <td>0.208955</td>\n",
       "      <td>1</td>\n",
       "    </tr>\n",
       "    <tr>\n",
       "      <th>20630</th>\n",
       "      <td>0.551247</td>\n",
       "      <td>0.842167</td>\n",
       "      <td>0.151369</td>\n",
       "      <td>0.803571</td>\n",
       "      <td>0.130064</td>\n",
       "      <td>0</td>\n",
       "    </tr>\n",
       "  </tbody>\n",
       "</table>\n",
       "<p>20631 rows × 6 columns</p>\n",
       "</div>"
      ],
      "text/plain": [
       "          cycle        s1        s2        s3        s4  ttf\n",
       "0      0.000000  0.309757  0.726248  0.369048  0.633262  191\n",
       "1      0.002770  0.352633  0.628019  0.380952  0.765458  190\n",
       "2      0.005540  0.370527  0.710145  0.250000  0.795309  189\n",
       "3      0.008310  0.331195  0.740741  0.166667  0.889126  188\n",
       "4      0.011080  0.404625  0.668277  0.255952  0.746269  187\n",
       "...         ...       ...       ...       ...       ...  ...\n",
       "20626  0.540166  0.782917  0.254428  0.726190  0.170576    4\n",
       "20627  0.542936  0.866475  0.162641  0.708333  0.211087    3\n",
       "20628  0.545706  0.775321  0.175523  0.738095  0.281450    2\n",
       "20629  0.548476  0.747468  0.133655  0.916667  0.208955    1\n",
       "20630  0.551247  0.842167  0.151369  0.803571  0.130064    0\n",
       "\n",
       "[20631 rows x 6 columns]"
      ]
     },
     "execution_count": 48,
     "metadata": {},
     "output_type": "execute_result"
    }
   ],
   "source": [
    "ntrain"
   ]
  },
  {
   "cell_type": "code",
   "execution_count": 50,
   "metadata": {},
   "outputs": [
    {
     "data": {
      "image/png": "[encoded data removed]",
      "text/plain": [
       "<Figure size 800x800 with 2 Axes>"
      ]
     },
     "metadata": {},
     "output_type": "display_data"
    }
   ],
   "source": [
    "fig = plt.figure(figsize = (8, 8))\n",
    "fig.add_subplot(1,2,1)\n",
    "plt.plot(train[train.id==1].s1, color=\"blue\")\n",
    "plt.plot(test[test.id==1].s1, color=\"red\")\n",
    "plt.legend(['Train','Test'], bbox_to_anchor=(0., 1.02, 1., .102), loc=3, mode=\"expand\", borderaxespad=0)\n",
    "plt.ylabel('Original id')\n",
    "fig.add_subplot(1,2,2)\n",
    "plt.plot(ntrain[ntrain.id==1].s1, color=\"blue\")\n",
    "plt.plot(ntest[ntest.id==1].s1, color=\"red\")\n",
    "plt.legend(['Scaled Train','Scaled Test'], bbox_to_anchor=(0., 1.02, 1., .102), loc=3, mode=\"expand\", borderaxespad=0)\n",
    "plt.ylabel('Scaled id')\n",
    "plt.show()"
   ]
  },
  {
   "cell_type": "code",
   "execution_count": 49,
   "metadata": {},
   "outputs": [],
   "source": [
    "X_train = ntrain.values[:,0:5]\n",
    "Y_train = ntrain.values[:,5]\n",
    "X_test = ntest.values[:,0:5]\n"
   ]
  },
  {
   "cell_type": "code",
   "execution_count": 50,
   "metadata": {},
   "outputs": [
    {
     "data": {
      "text/plain": [
       "(100, 5)"
      ]
     },
     "execution_count": 50,
     "metadata": {},
     "output_type": "execute_result"
    }
   ],
   "source": [
    "X_test.shape"
   ]
  },
  {
   "cell_type": "code",
   "execution_count": 51,
   "metadata": {},
   "outputs": [
    {
     "data": {
      "text/plain": [
       "GradientBoostingRegressor()"
      ]
     },
     "execution_count": 51,
     "metadata": {},
     "output_type": "execute_result"
    }
   ],
   "source": [
    "regressor = GradientBoostingRegressor()\n",
    "regressor.fit(X_train, Y_train)"
   ]
  },
  {
   "cell_type": "code",
   "execution_count": 52,
   "metadata": {},
   "outputs": [],
   "source": [
    "score = regressor.predict(X_test)\n"
   ]
  },
  {
   "cell_type": "code",
   "execution_count": 53,
   "metadata": {},
   "outputs": [
    {
     "name": "stdout",
     "output_type": "stream",
     "text": [
      "4.817289069675152 184.47850810439016\n"
     ]
    }
   ],
   "source": [
    "print(score.min(), score.max())\n"
   ]
  },
  {
   "cell_type": "code",
   "execution_count": 41,
   "metadata": {},
   "outputs": [],
   "source": [
    "test_ttf = test_ttf['ttf']"
   ]
  },
  {
   "cell_type": "code",
   "execution_count": 14,
   "metadata": {},
   "outputs": [],
   "source": [
    "df1 = pd.concat([test_ttf, pd.Series(score)], axis=1)\n",
    "df1.columns = ['true', 'predicted']"
   ]
  },
  {
   "cell_type": "code",
   "execution_count": 54,
   "metadata": {},
   "outputs": [
    {
     "data": {
      "text/html": [
       "<div>\n",
       "<style scoped>\n",
       "    .dataframe tbody tr th:only-of-type {\n",
       "        vertical-align: middle;\n",
       "    }\n",
       "\n",
       "    .dataframe tbody tr th {\n",
       "        vertical-align: top;\n",
       "    }\n",
       "\n",
       "    .dataframe thead th {\n",
       "        text-align: right;\n",
       "    }\n",
       "</style>\n",
       "<table border=\"1\" class=\"dataframe\">\n",
       "  <thead>\n",
       "    <tr style=\"text-align: right;\">\n",
       "      <th></th>\n",
       "      <th>true</th>\n",
       "      <th>predicted</th>\n",
       "      <th>diff</th>\n",
       "    </tr>\n",
       "  </thead>\n",
       "  <tbody>\n",
       "    <tr>\n",
       "      <th>0</th>\n",
       "      <td>112</td>\n",
       "      <td>184.478508</td>\n",
       "      <td>72.478508</td>\n",
       "    </tr>\n",
       "    <tr>\n",
       "      <th>1</th>\n",
       "      <td>98</td>\n",
       "      <td>145.817776</td>\n",
       "      <td>47.817776</td>\n",
       "    </tr>\n",
       "    <tr>\n",
       "      <th>2</th>\n",
       "      <td>69</td>\n",
       "      <td>35.297441</td>\n",
       "      <td>-33.702559</td>\n",
       "    </tr>\n",
       "    <tr>\n",
       "      <th>3</th>\n",
       "      <td>82</td>\n",
       "      <td>87.952669</td>\n",
       "      <td>5.952669</td>\n",
       "    </tr>\n",
       "    <tr>\n",
       "      <th>4</th>\n",
       "      <td>91</td>\n",
       "      <td>85.800389</td>\n",
       "      <td>-5.199611</td>\n",
       "    </tr>\n",
       "  </tbody>\n",
       "</table>\n",
       "</div>"
      ],
      "text/plain": [
       "   true   predicted       diff\n",
       "0   112  184.478508  72.478508\n",
       "1    98  145.817776  47.817776\n",
       "2    69   35.297441 -33.702559\n",
       "3    82   87.952669   5.952669\n",
       "4    91   85.800389  -5.199611"
      ]
     },
     "execution_count": 54,
     "metadata": {},
     "output_type": "execute_result"
    }
   ],
   "source": [
    "df1['diff'] = df1['predicted']-df1['true']\n",
    "df1.head()"
   ]
  },
  {
   "cell_type": "code",
   "execution_count": 16,
   "metadata": {},
   "outputs": [
    {
     "data": {
      "image/png": "[encoded data removed]",
      "text/plain": [
       "<Figure size 640x480 with 1 Axes>"
      ]
     },
     "metadata": {},
     "output_type": "display_data"
    }
   ],
   "source": [
    "plt.hist(df1['diff'], bins=26, color=\"pink\", edgecolor='brown', linewidth=1.2)\n",
    "plt.axvline(0, color=\"red\", linestyle='dashed', linewidth=1.6)\n",
    "plt.show()"
   ]
  },
  {
   "cell_type": "code",
   "execution_count": 55,
   "metadata": {},
   "outputs": [
    {
     "data": {
      "text/html": [
       "<div>\n",
       "<style scoped>\n",
       "    .dataframe tbody tr th:only-of-type {\n",
       "        vertical-align: middle;\n",
       "    }\n",
       "\n",
       "    .dataframe tbody tr th {\n",
       "        vertical-align: top;\n",
       "    }\n",
       "\n",
       "    .dataframe thead th {\n",
       "        text-align: right;\n",
       "    }\n",
       "</style>\n",
       "<table border=\"1\" class=\"dataframe\">\n",
       "  <thead>\n",
       "    <tr style=\"text-align: right;\">\n",
       "      <th></th>\n",
       "      <th>Count</th>\n",
       "    </tr>\n",
       "  </thead>\n",
       "  <tbody>\n",
       "    <tr>\n",
       "      <th>Smaller</th>\n",
       "      <td>32</td>\n",
       "    </tr>\n",
       "    <tr>\n",
       "      <th>Zero</th>\n",
       "      <td>0</td>\n",
       "    </tr>\n",
       "    <tr>\n",
       "      <th>Larger</th>\n",
       "      <td>68</td>\n",
       "    </tr>\n",
       "  </tbody>\n",
       "</table>\n",
       "</div>"
      ],
      "text/plain": [
       "         Count\n",
       "Smaller     32\n",
       "Zero         0\n",
       "Larger      68"
      ]
     },
     "execution_count": 55,
     "metadata": {},
     "output_type": "execute_result"
    }
   ],
   "source": [
    "pd.DataFrame({'Count': [(df1['diff']<0).sum(), (df1['diff']==0).sum(),\n",
    " (df1['diff']>0).sum()]}, columns=['Count'],\n",
    " index=['Smaller', 'Zero', 'Larger'])"
   ]
  },
  {
   "cell_type": "code",
   "execution_count": 56,
   "metadata": {},
   "outputs": [
    {
     "name": "stdout",
     "output_type": "stream",
     "text": [
      "Gradient Boosting R-squared 55.93%\n"
     ]
    }
   ],
   "source": [
    "from sklearn import metrics\n",
    "print(\"Gradient Boosting R-squared\", \"{:.2%}\".format(metrics.r2_score(test_ttf, score)))"
   ]
  },
  {
   "cell_type": "code",
   "execution_count": 57,
   "metadata": {},
   "outputs": [
    {
     "name": "stdout",
     "output_type": "stream",
     "text": [
      "The Root Mean Squared Error (RMSE) is: 27.59\n"
     ]
    }
   ],
   "source": [
    "print(\"The Root Mean Squared Error (RMSE) is:\",\n",
    " round(np.sqrt(metrics.mean_squared_error(test_ttf, score)),2))"
   ]
  },
  {
   "cell_type": "code",
   "execution_count": 45,
   "metadata": {},
   "outputs": [
    {
     "name": "stdout",
     "output_type": "stream",
     "text": [
      "The Mean Absolute Error (MAE) is: 21.88\n"
     ]
    }
   ],
   "source": [
    "print(\"The Mean Absolute Error (MAE) is:\",\n",
    " round(metrics.mean_absolute_error(test_ttf, score),2))"
   ]
  },
  {
   "cell_type": "code",
   "execution_count": 47,
   "metadata": {},
   "outputs": [
    {
     "name": "stdout",
     "output_type": "stream",
     "text": [
      "cycle-74.07%\n",
      "s3-11.42%\n",
      "s1-7.28%\n",
      "s4-4.17%\n",
      "s2-3.05%\n"
     ]
    }
   ],
   "source": [
    "feature_labels = np.array([ 'cycle', 's1', 's2','s3','s4'])\n",
    "importance = regressor.feature_importances_\n",
    "feature_indexes_by_importance = importance.argsort()[::-1]\n",
    "for index in feature_indexes_by_importance:\n",
    " print('{}-{:.2f}%'.format(feature_labels[index], (importance[index] *100.0)))"
   ]
  },
  {
   "cell_type": "markdown",
   "metadata": {},
   "source": [
    "CROSS VALIDATION\n"
   ]
  },
  {
   "cell_type": "code",
   "execution_count": 90,
   "metadata": {},
   "outputs": [],
   "source": [
    "def build_model(_alpha, _l1_ratio):\n",
    "    estimator = ElasticNet(\n",
    "        alpha=_alpha,\n",
    "        l1_ratio=_l1_ratio,\n",
    "        fit_intercept=True,\n",
    "        normalize=False,\n",
    "        precompute=False,\n",
    "        max_iter=16,\n",
    "        copy_X=True,\n",
    "        tol=0.1,\n",
    "        warm_start=False,\n",
    "        positive=False,\n",
    "        random_state=None,\n",
    "        selection='random'\n",
    "    )\n",
    "\n",
    "    return MultiOutputRegressor(estimator, n_jobs=4)"
   ]
  },
  {
   "cell_type": "code",
   "execution_count": 29,
   "metadata": {},
   "outputs": [],
   "source": [
    "    parameters = {'learning_rate': [0.01,0.02,0.03,0.04],\n",
    "                  'subsample'    : [0.9, 0.5, 0.2, 0.1],\n",
    "                  'n_estimators' : [100,500,1000, 1500],\n",
    "                  'max_depth'    : [4,6,8,10]\n",
    "                 }"
   ]
  },
  {
   "cell_type": "code",
   "execution_count": null,
   "metadata": {},
   "outputs": [],
   "source": []
  },
  {
   "cell_type": "code",
   "execution_count": 30,
   "metadata": {},
   "outputs": [],
   "source": [
    "model = GradientBoostingRegressor()\n"
   ]
  },
  {
   "cell_type": "code",
   "execution_count": 31,
   "metadata": {},
   "outputs": [
    {
     "name": "stdout",
     "output_type": "stream",
     "text": [
      " Results from Grid Search \n",
      "\n",
      " The best estimator across ALL searched params:\n",
      " GradientBoostingRegressor(learning_rate=0.03, max_depth=4, subsample=0.2)\n",
      "\n",
      " The best score across ALL searched params:\n",
      " 0.6459662382549869\n",
      "\n",
      " The best parameters across ALL searched params:\n",
      " {'learning_rate': 0.03, 'max_depth': 4, 'n_estimators': 100, 'subsample': 0.2}\n"
     ]
    }
   ],
   "source": [
    "    grid_GBR = GridSearchCV(estimator=model, param_grid = parameters, cv = 2, n_jobs=-1)\n",
    "    grid_GBR.fit(X_train, Y_train)\n",
    "\n",
    "    print(\" Results from Grid Search \" )\n",
    "    print(\"\\n The best estimator across ALL searched params:\\n\",grid_GBR.best_estimator_)\n",
    "    print(\"\\n The best score across ALL searched params:\\n\",grid_GBR.best_score_)\n",
    "    print(\"\\n The best parameters across ALL searched params:\\n\",grid_GBR.best_params_)"
   ]
  },
  {
   "cell_type": "code",
   "execution_count": 103,
   "metadata": {},
   "outputs": [
    {
     "name": "stdout",
     "output_type": "stream",
     "text": [
      "RMSE: 35.610068781324586 (+/- 15.61266515082837\n",
      "\n",
      "R2: 0.7042210733407716 (+/- 0.16756053317267938\n"
     ]
    }
   ],
   "source": [
    "model = GradientBoostingRegressor(learning_rate=0.03, max_depth=4, subsample=0.5,n_estimators= 100)\n",
    "rmse = np.sqrt(-cross_val_score(model, X_train, Y_train, scoring='root_mean_squared_error'))\n",
    "R2 = cross_val_score(model, X_train, Y_train, scoring='r2')\n",
    "\n",
    "print(f\"RMSE: {rmse.mean()} (+/- {rmse.std()}\")\n",
    "print(f\"\\nR2: {R2.mean()} (+/- {R2.std()}\")"
   ]
  },
  {
   "cell_type": "code",
   "execution_count": 101,
   "metadata": {},
   "outputs": [
    {
     "data": {
      "text/plain": [
       "GradientBoostingRegressor(learning_rate=0.03, max_depth=4, subsample=0.5)"
      ]
     },
     "execution_count": 101,
     "metadata": {},
     "output_type": "execute_result"
    }
   ],
   "source": [
    "model = GradientBoostingRegressor(learning_rate=0.03, max_depth=4, subsample=0.5,n_estimators= 100)\n",
    "model.fit(X_train,Y_train)"
   ]
  },
  {
   "cell_type": "code",
   "execution_count": 102,
   "metadata": {},
   "outputs": [
    {
     "name": "stdout",
     "output_type": "stream",
     "text": [
      "Gradient Boosting R-squared 56.72%\n"
     ]
    }
   ],
   "source": [
    "score=model.predict(X_test)\n",
    "print(\"Gradient Boosting R-squared\", \"{:.2%}\".format(metrics.r2_score(test_ttf, score)))"
   ]
  }
 ],
 "metadata": {
  "kernelspec": {
   "display_name": "Python 3.9.13 ('base')",
   "language": "python",
   "name": "python3"
  },
  "language_info": {
   "codemirror_mode": {
    "name": "ipython",
    "version": 3
   },
   "file_extension": ".py",
   "mimetype": "text/x-python",
   "name": "python",
   "nbconvert_exporter": "python",
   "pygments_lexer": "ipython3",
   "version": "3.9.13"
  },
  "orig_nbformat": 4,
  "vscode": {
   "interpreter": {
    "hash": "cd7273889af81794276ebcb6626ef2b8c99f4d58adb2bfe7a91f2e826409d2ab"
   }
  }
 },
 "nbformat": 4,
 "nbformat_minor": 2
}
