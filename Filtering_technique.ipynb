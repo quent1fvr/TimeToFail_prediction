{
 "cells": [
  {
   "cell_type": "code",
   "execution_count": 237,
   "metadata": {},
   "outputs": [
    {
     "data": {
      "text/plain": [
       "0     112\n",
       "1      98\n",
       "2      69\n",
       "3      82\n",
       "4      91\n",
       "     ... \n",
       "95    137\n",
       "96     82\n",
       "97     59\n",
       "98    117\n",
       "99     20\n",
       "Name: ttf, Length: 100, dtype: int64"
      ]
     },
     "execution_count": 237,
     "metadata": {},
     "output_type": "execute_result"
    }
   ],
   "source": [
    "import seaborn as sns\n",
    "import os\n",
    "import pandas as pd\n",
    "import numpy as np\n",
    "np.random.seed(1337)\n",
    "from IPython.display import Image\n",
    "import matplotlib as mpl\n",
    "import matplotlib.pyplot as plt\n",
    "from pandas import read_csv\n",
    "from matplotlib import pyplot as plt\n",
    "from sklearn.metrics import mean_squared_error\n",
    "from sklearn.ensemble import GradientBoostingRegressor\n",
    "from sklearn.model_selection import cross_val_score\n",
    "from sklearn.preprocessing import StandardScaler\n",
    "from sklearn.pipeline import Pipeline\n",
    "from sklearn.preprocessing import MinMaxScaler\n",
    "from sklearn.model_selection import TimeSeriesSplit\n",
    "from sklearn.model_selection import KFold\n",
    "import numpy as np\n",
    "import matplotlib.pyplot as plt\n",
    "from matplotlib.patches import Patch\n",
    "import seaborn as sns \n",
    "\n",
    "import sklearn\n",
    "from sklearn.linear_model import ElasticNet\n",
    "from sklearn.multioutput import MultiOutputRegressor\n",
    "from sklearn.model_selection import cross_val_score\n",
    "from sklearn.model_selection import GridSearchCV\n",
    "train = pd.read_csv('/Users/quent1/Desktop/Cranfield assignment/Statistical learning methods/code/train_selected.csv')\n",
    "test = pd.read_csv('/Users/quent1/Desktop/Cranfield assignment/Statistical learning methods/code/test_selected.csv')\n",
    "test_ttf = pd.read_csv('/Users/quent1/Desktop/Cranfield assignment/Statistical learning methods/code/test_selected_ttf.csv')\n",
    "scaler = MinMaxScaler()\n",
    "\n",
    "train =train.drop(['label_bnc'],axis=1)\n",
    "test =test.drop(['id'],axis=1)\n",
    "X_test = test.values[:,1:6]\n",
    "test_ttf = test_ttf['ttf']\n",
    "test_ttf\n",
    "\n",
    "/Users/quent1/Desktop/Untitled_Message/Filtering_technique.ipynb\n"
   ]
  },
  {
   "cell_type": "code",
   "execution_count": 180,
   "metadata": {},
   "outputs": [
    {
     "data": {
      "text/plain": [
       "(100, 5)"
      ]
     },
     "execution_count": 180,
     "metadata": {},
     "output_type": "execute_result"
    }
   ],
   "source": [
    "X_test.shape"
   ]
  },
  {
   "cell_type": "code",
   "execution_count": 154,
   "metadata": {},
   "outputs": [
    {
     "data": {
      "text/html": [
       "<div>\n",
       "<style scoped>\n",
       "    .dataframe tbody tr th:only-of-type {\n",
       "        vertical-align: middle;\n",
       "    }\n",
       "\n",
       "    .dataframe tbody tr th {\n",
       "        vertical-align: top;\n",
       "    }\n",
       "\n",
       "    .dataframe thead th {\n",
       "        text-align: right;\n",
       "    }\n",
       "</style>\n",
       "<table border=\"1\" class=\"dataframe\">\n",
       "  <thead>\n",
       "    <tr style=\"text-align: right;\">\n",
       "      <th></th>\n",
       "      <th>ttf</th>\n",
       "    </tr>\n",
       "  </thead>\n",
       "  <tbody>\n",
       "    <tr>\n",
       "      <th>0</th>\n",
       "      <td>191</td>\n",
       "    </tr>\n",
       "    <tr>\n",
       "      <th>1</th>\n",
       "      <td>190</td>\n",
       "    </tr>\n",
       "    <tr>\n",
       "      <th>2</th>\n",
       "      <td>189</td>\n",
       "    </tr>\n",
       "    <tr>\n",
       "      <th>3</th>\n",
       "      <td>188</td>\n",
       "    </tr>\n",
       "    <tr>\n",
       "      <th>4</th>\n",
       "      <td>187</td>\n",
       "    </tr>\n",
       "    <tr>\n",
       "      <th>...</th>\n",
       "      <td>...</td>\n",
       "    </tr>\n",
       "    <tr>\n",
       "      <th>20626</th>\n",
       "      <td>4</td>\n",
       "    </tr>\n",
       "    <tr>\n",
       "      <th>20627</th>\n",
       "      <td>3</td>\n",
       "    </tr>\n",
       "    <tr>\n",
       "      <th>20628</th>\n",
       "      <td>2</td>\n",
       "    </tr>\n",
       "    <tr>\n",
       "      <th>20629</th>\n",
       "      <td>1</td>\n",
       "    </tr>\n",
       "    <tr>\n",
       "      <th>20630</th>\n",
       "      <td>0</td>\n",
       "    </tr>\n",
       "  </tbody>\n",
       "</table>\n",
       "<p>20631 rows × 1 columns</p>\n",
       "</div>"
      ],
      "text/plain": [
       "       ttf\n",
       "0      191\n",
       "1      190\n",
       "2      189\n",
       "3      188\n",
       "4      187\n",
       "...    ...\n",
       "20626    4\n",
       "20627    3\n",
       "20628    2\n",
       "20629    1\n",
       "20630    0\n",
       "\n",
       "[20631 rows x 1 columns]"
      ]
     },
     "execution_count": 154,
     "metadata": {},
     "output_type": "execute_result"
    }
   ],
   "source": [
    "train_ttf = pd.DataFrame(train.ttf)\n",
    "train_ttf"
   ]
  },
  {
   "cell_type": "code",
   "execution_count": 210,
   "metadata": {},
   "outputs": [
    {
     "data": {
      "text/plain": [
       "Text(0, 0.5, 'Original id')"
      ]
     },
     "execution_count": 210,
     "metadata": {},
     "output_type": "execute_result"
    },
    {
     "data": {
      "image/png": "[encoded data removed]",
      "text/plain": [
       "<Figure size 800x800 with 1 Axes>"
      ]
     },
     "metadata": {},
     "output_type": "display_data"
    }
   ],
   "source": [
    "from scipy import signal\n",
    "\n",
    "fig = plt.figure(figsize = (8, 8))\n",
    "fig.add_subplot(1,2,1)\n",
    "plt.plot(train[train.id==1].s1, color=\"blue\")\n",
    "y_smooth = signal.savgol_filter(train[train.id==1].s1, window_length=10, polyorder=2, mode=\"nearest\")\n",
    "plt.plot(y_smooth, color=\"red\")\n",
    "\n",
    "plt.legend('Train', bbox_to_anchor=(0., 1.02, 1., .102), loc=3, mode=\"expand\", borderaxespad=0)\n",
    "plt.ylabel('Original id')\n"
   ]
  },
  {
   "cell_type": "markdown",
   "metadata": {},
   "source": [
    "Intéret du lissage\n"
   ]
  },
  {
   "cell_type": "code",
   "execution_count": 264,
   "metadata": {},
   "outputs": [],
   "source": [
    "def lissage_savgol(X):\n",
    "    X_lissed = pd.DataFrame(columns=['id', 'cycle', 's1','s2','s3','s4'])\n",
    "    for i in range(1,101):\n",
    "        \n",
    "            y_smooth_s1 = np.array(signal.savgol_filter(train[train.id==i].s1, window_length=10, polyorder=1, mode=\"nearest\"))\n",
    "            y_smooth_s2 = signal.savgol_filter(train[train.id==i].s2, window_length=10, polyorder=1, mode=\"nearest\")\n",
    "            y_smooth_s3 = signal.savgol_filter(train[train.id==i].s3, window_length=10, polyorder=1, mode=\"nearest\")\n",
    "            y_smooth_s4 = signal.savgol_filter(train[train.id==i].s4, window_length=10, polyorder=1, mode=\"nearest\")\n",
    "            y_smooth_s1.reshape(-1,1)\n",
    "    \n",
    "            df = pd.DataFrame({'id': i , 'cycle': [i+1 for i in range(y_smooth_s1.shape[0])],'s1':y_smooth_s1, 's2': y_smooth_s2, 's3': y_smooth_s3, 's4': y_smooth_s4 }, index = [i+1 for i in range(y_smooth_s1.shape[0])]\n",
    "                     )\n",
    "\n",
    "            X_lissed = pd.concat([X_lissed,df])\n",
    "    return X_lissed\n",
    "X_train_lisssed = lissage_savgol(train)\n",
    "\n",
    "X_train_lisssed = X_train_lisssed.drop(['id'], axis=1)\n"
   ]
  },
  {
   "cell_type": "code",
   "execution_count": 246,
   "metadata": {},
   "outputs": [
    {
     "data": {
      "text/plain": [
       "Text(0, 0.5, 'Original id')"
      ]
     },
     "execution_count": 246,
     "metadata": {},
     "output_type": "execute_result"
    },
    {
     "data": {
      "image/png": "[encoded data removed]",
      "text/plain": [
       "<Figure size 800x800 with 1 Axes>"
      ]
     },
     "metadata": {},
     "output_type": "display_data"
    }
   ],
   "source": [
    "from scipy import signal\n",
    "\n",
    "fig = plt.figure(figsize = (8, 8))\n",
    "fig.add_subplot(1,2,1)\n",
    "plt.plot(X_train_lisssed[X_train_lisssed.id==69].S1, color=\"blue\")\n",
    "\n",
    "plt.legend('X_train_lisssed', bbox_to_anchor=(0., 1.02, 1., .102), loc=3, mode=\"expand\", borderaxespad=0)\n",
    "plt.ylabel('Original id')"
   ]
  },
  {
   "cell_type": "code",
   "execution_count": 227,
   "metadata": {},
   "outputs": [
    {
     "data": {
      "text/plain": [
       "(20631,)"
      ]
     },
     "execution_count": 227,
     "metadata": {},
     "output_type": "execute_result"
    }
   ],
   "source": [
    "train_ttf = np.ravel(train_ttf)\n",
    "train_ttf.shape"
   ]
  },
  {
   "cell_type": "code",
   "execution_count": 258,
   "metadata": {},
   "outputs": [
    {
     "data": {
      "text/html": [
       "<div>\n",
       "<style scoped>\n",
       "    .dataframe tbody tr th:only-of-type {\n",
       "        vertical-align: middle;\n",
       "    }\n",
       "\n",
       "    .dataframe tbody tr th {\n",
       "        vertical-align: top;\n",
       "    }\n",
       "\n",
       "    .dataframe thead th {\n",
       "        text-align: right;\n",
       "    }\n",
       "</style>\n",
       "<table border=\"1\" class=\"dataframe\">\n",
       "  <thead>\n",
       "    <tr style=\"text-align: right;\">\n",
       "      <th></th>\n",
       "      <th>cycle</th>\n",
       "      <th>s1</th>\n",
       "      <th>s2</th>\n",
       "      <th>s3</th>\n",
       "      <th>s4</th>\n",
       "    </tr>\n",
       "  </thead>\n",
       "  <tbody>\n",
       "    <tr>\n",
       "      <th>0</th>\n",
       "      <td>31</td>\n",
       "      <td>1398.91</td>\n",
       "      <td>554.42</td>\n",
       "      <td>47.23</td>\n",
       "      <td>521.79</td>\n",
       "    </tr>\n",
       "    <tr>\n",
       "      <th>1</th>\n",
       "      <td>49</td>\n",
       "      <td>1410.83</td>\n",
       "      <td>553.52</td>\n",
       "      <td>47.67</td>\n",
       "      <td>521.74</td>\n",
       "    </tr>\n",
       "    <tr>\n",
       "      <th>2</th>\n",
       "      <td>126</td>\n",
       "      <td>1418.89</td>\n",
       "      <td>552.59</td>\n",
       "      <td>47.88</td>\n",
       "      <td>520.83</td>\n",
       "    </tr>\n",
       "    <tr>\n",
       "      <th>3</th>\n",
       "      <td>106</td>\n",
       "      <td>1406.88</td>\n",
       "      <td>552.64</td>\n",
       "      <td>47.65</td>\n",
       "      <td>521.88</td>\n",
       "    </tr>\n",
       "    <tr>\n",
       "      <th>4</th>\n",
       "      <td>98</td>\n",
       "      <td>1419.36</td>\n",
       "      <td>553.29</td>\n",
       "      <td>47.46</td>\n",
       "      <td>521.00</td>\n",
       "    </tr>\n",
       "    <tr>\n",
       "      <th>...</th>\n",
       "      <td>...</td>\n",
       "      <td>...</td>\n",
       "      <td>...</td>\n",
       "      <td>...</td>\n",
       "      <td>...</td>\n",
       "    </tr>\n",
       "    <tr>\n",
       "      <th>95</th>\n",
       "      <td>97</td>\n",
       "      <td>1397.94</td>\n",
       "      <td>553.99</td>\n",
       "      <td>47.14</td>\n",
       "      <td>522.30</td>\n",
       "    </tr>\n",
       "    <tr>\n",
       "      <th>96</th>\n",
       "      <td>134</td>\n",
       "      <td>1410.92</td>\n",
       "      <td>554.05</td>\n",
       "      <td>47.38</td>\n",
       "      <td>521.58</td>\n",
       "    </tr>\n",
       "    <tr>\n",
       "      <th>97</th>\n",
       "      <td>121</td>\n",
       "      <td>1415.47</td>\n",
       "      <td>553.44</td>\n",
       "      <td>47.66</td>\n",
       "      <td>521.53</td>\n",
       "    </tr>\n",
       "    <tr>\n",
       "      <th>98</th>\n",
       "      <td>97</td>\n",
       "      <td>1397.98</td>\n",
       "      <td>554.75</td>\n",
       "      <td>47.26</td>\n",
       "      <td>521.82</td>\n",
       "    </tr>\n",
       "    <tr>\n",
       "      <th>99</th>\n",
       "      <td>198</td>\n",
       "      <td>1424.99</td>\n",
       "      <td>552.48</td>\n",
       "      <td>47.80</td>\n",
       "      <td>521.07</td>\n",
       "    </tr>\n",
       "  </tbody>\n",
       "</table>\n",
       "<p>100 rows × 5 columns</p>\n",
       "</div>"
      ],
      "text/plain": [
       "    cycle       s1      s2     s3      s4\n",
       "0      31  1398.91  554.42  47.23  521.79\n",
       "1      49  1410.83  553.52  47.67  521.74\n",
       "2     126  1418.89  552.59  47.88  520.83\n",
       "3     106  1406.88  552.64  47.65  521.88\n",
       "4      98  1419.36  553.29  47.46  521.00\n",
       "..    ...      ...     ...    ...     ...\n",
       "95     97  1397.94  553.99  47.14  522.30\n",
       "96    134  1410.92  554.05  47.38  521.58\n",
       "97    121  1415.47  553.44  47.66  521.53\n",
       "98     97  1397.98  554.75  47.26  521.82\n",
       "99    198  1424.99  552.48  47.80  521.07\n",
       "\n",
       "[100 rows x 5 columns]"
      ]
     },
     "execution_count": 258,
     "metadata": {},
     "output_type": "execute_result"
    }
   ],
   "source": [
    "test"
   ]
  },
  {
   "cell_type": "code",
   "execution_count": 265,
   "metadata": {},
   "outputs": [
    {
     "data": {
      "text/plain": [
       "GradientBoostingRegressor()"
      ]
     },
     "execution_count": 265,
     "metadata": {},
     "output_type": "execute_result"
    }
   ],
   "source": [
    "\n",
    "regressor = GradientBoostingRegressor()\n",
    "regressor.fit(X_train_lisssed, np.ravel(train_ttf))"
   ]
  },
  {
   "cell_type": "code",
   "execution_count": 266,
   "metadata": {},
   "outputs": [
    {
     "data": {
      "text/plain": [
       "(100,)"
      ]
     },
     "execution_count": 266,
     "metadata": {},
     "output_type": "execute_result"
    }
   ],
   "source": [
    "score = regressor.predict(test)\n",
    "X_test.shape\n",
    "score.shape"
   ]
  },
  {
   "cell_type": "code",
   "execution_count": 223,
   "metadata": {},
   "outputs": [
    {
     "data": {
      "text/plain": [
       "(100,)"
      ]
     },
     "execution_count": 223,
     "metadata": {},
     "output_type": "execute_result"
    }
   ],
   "source": [
    "test_ttf.shape"
   ]
  },
  {
   "cell_type": "code",
   "execution_count": 267,
   "metadata": {},
   "outputs": [
    {
     "name": "stdout",
     "output_type": "stream",
     "text": [
      "Gradient Boosting R-squared 51.39%\n"
     ]
    }
   ],
   "source": [
    "from sklearn import metrics\n",
    "print(\"Gradient Boosting R-squared\", \"{:.2%}\".format(metrics.r2_score(test_ttf, score)))"
   ]
  },
  {
   "cell_type": "code",
   "execution_count": 194,
   "metadata": {},
   "outputs": [],
   "source": [
    "df1 = pd.concat([test_ttf, pd.Series(score)], axis=1)\n",
    "df1.columns = ['true', 'predicted']"
   ]
  },
  {
   "cell_type": "code",
   "execution_count": 268,
   "metadata": {},
   "outputs": [
    {
     "data": {
      "text/html": [
       "<div>\n",
       "<style scoped>\n",
       "    .dataframe tbody tr th:only-of-type {\n",
       "        vertical-align: middle;\n",
       "    }\n",
       "\n",
       "    .dataframe tbody tr th {\n",
       "        vertical-align: top;\n",
       "    }\n",
       "\n",
       "    .dataframe thead th {\n",
       "        text-align: right;\n",
       "    }\n",
       "</style>\n",
       "<table border=\"1\" class=\"dataframe\">\n",
       "  <thead>\n",
       "    <tr style=\"text-align: right;\">\n",
       "      <th></th>\n",
       "      <th>true</th>\n",
       "      <th>predicted</th>\n",
       "      <th>diff</th>\n",
       "    </tr>\n",
       "  </thead>\n",
       "  <tbody>\n",
       "    <tr>\n",
       "      <th>0</th>\n",
       "      <td>112</td>\n",
       "      <td>185.172545</td>\n",
       "      <td>73.172545</td>\n",
       "    </tr>\n",
       "    <tr>\n",
       "      <th>1</th>\n",
       "      <td>98</td>\n",
       "      <td>112.112818</td>\n",
       "      <td>14.112818</td>\n",
       "    </tr>\n",
       "    <tr>\n",
       "      <th>2</th>\n",
       "      <td>69</td>\n",
       "      <td>31.705312</td>\n",
       "      <td>-37.294688</td>\n",
       "    </tr>\n",
       "    <tr>\n",
       "      <th>3</th>\n",
       "      <td>82</td>\n",
       "      <td>98.867909</td>\n",
       "      <td>16.867909</td>\n",
       "    </tr>\n",
       "    <tr>\n",
       "      <th>4</th>\n",
       "      <td>91</td>\n",
       "      <td>62.987171</td>\n",
       "      <td>-28.012829</td>\n",
       "    </tr>\n",
       "    <tr>\n",
       "      <th>...</th>\n",
       "      <td>...</td>\n",
       "      <td>...</td>\n",
       "      <td>...</td>\n",
       "    </tr>\n",
       "    <tr>\n",
       "      <th>95</th>\n",
       "      <td>137</td>\n",
       "      <td>176.530090</td>\n",
       "      <td>39.530090</td>\n",
       "    </tr>\n",
       "    <tr>\n",
       "      <th>96</th>\n",
       "      <td>82</td>\n",
       "      <td>71.341070</td>\n",
       "      <td>-10.658930</td>\n",
       "    </tr>\n",
       "    <tr>\n",
       "      <th>97</th>\n",
       "      <td>59</td>\n",
       "      <td>40.627838</td>\n",
       "      <td>-18.372162</td>\n",
       "    </tr>\n",
       "    <tr>\n",
       "      <th>98</th>\n",
       "      <td>117</td>\n",
       "      <td>171.735328</td>\n",
       "      <td>54.735328</td>\n",
       "    </tr>\n",
       "    <tr>\n",
       "      <th>99</th>\n",
       "      <td>20</td>\n",
       "      <td>15.713576</td>\n",
       "      <td>-4.286424</td>\n",
       "    </tr>\n",
       "  </tbody>\n",
       "</table>\n",
       "<p>100 rows × 3 columns</p>\n",
       "</div>"
      ],
      "text/plain": [
       "    true   predicted       diff\n",
       "0    112  185.172545  73.172545\n",
       "1     98  112.112818  14.112818\n",
       "2     69   31.705312 -37.294688\n",
       "3     82   98.867909  16.867909\n",
       "4     91   62.987171 -28.012829\n",
       "..   ...         ...        ...\n",
       "95   137  176.530090  39.530090\n",
       "96    82   71.341070 -10.658930\n",
       "97    59   40.627838 -18.372162\n",
       "98   117  171.735328  54.735328\n",
       "99    20   15.713576  -4.286424\n",
       "\n",
       "[100 rows x 3 columns]"
      ]
     },
     "execution_count": 268,
     "metadata": {},
     "output_type": "execute_result"
    }
   ],
   "source": [
    "df1['diff'] = df1['predicted']-df1['true']\n",
    "df1"
   ]
  },
  {
   "cell_type": "code",
   "execution_count": 225,
   "metadata": {},
   "outputs": [
    {
     "data": {
      "text/html": [
       "<div>\n",
       "<style scoped>\n",
       "    .dataframe tbody tr th:only-of-type {\n",
       "        vertical-align: middle;\n",
       "    }\n",
       "\n",
       "    .dataframe tbody tr th {\n",
       "        vertical-align: top;\n",
       "    }\n",
       "\n",
       "    .dataframe thead th {\n",
       "        text-align: right;\n",
       "    }\n",
       "</style>\n",
       "<table border=\"1\" class=\"dataframe\">\n",
       "  <thead>\n",
       "    <tr style=\"text-align: right;\">\n",
       "      <th></th>\n",
       "      <th>Count</th>\n",
       "    </tr>\n",
       "  </thead>\n",
       "  <tbody>\n",
       "    <tr>\n",
       "      <th>Smaller</th>\n",
       "      <td>39</td>\n",
       "    </tr>\n",
       "    <tr>\n",
       "      <th>Zero</th>\n",
       "      <td>0</td>\n",
       "    </tr>\n",
       "    <tr>\n",
       "      <th>Larger</th>\n",
       "      <td>61</td>\n",
       "    </tr>\n",
       "  </tbody>\n",
       "</table>\n",
       "</div>"
      ],
      "text/plain": [
       "         Count\n",
       "Smaller     39\n",
       "Zero         0\n",
       "Larger      61"
      ]
     },
     "execution_count": 225,
     "metadata": {},
     "output_type": "execute_result"
    }
   ],
   "source": [
    "pd.DataFrame({'Count': [(df1['diff']<0).sum(), (df1['diff']==0).sum(),\n",
    " (df1['diff']>0).sum()]}, columns=['Count'],\n",
    " index=['Smaller', 'Zero', 'Larger'])"
   ]
  },
  {
   "cell_type": "code",
   "execution_count": 197,
   "metadata": {},
   "outputs": [
    {
     "data": {
      "text/html": [
       "<div>\n",
       "<style scoped>\n",
       "    .dataframe tbody tr th:only-of-type {\n",
       "        vertical-align: middle;\n",
       "    }\n",
       "\n",
       "    .dataframe tbody tr th {\n",
       "        vertical-align: top;\n",
       "    }\n",
       "\n",
       "    .dataframe thead th {\n",
       "        text-align: right;\n",
       "    }\n",
       "</style>\n",
       "<table border=\"1\" class=\"dataframe\">\n",
       "  <thead>\n",
       "    <tr style=\"text-align: right;\">\n",
       "      <th></th>\n",
       "      <th>true</th>\n",
       "      <th>predicted</th>\n",
       "      <th>diff</th>\n",
       "    </tr>\n",
       "  </thead>\n",
       "  <tbody>\n",
       "    <tr>\n",
       "      <th>0</th>\n",
       "      <td>112</td>\n",
       "      <td>185.172545</td>\n",
       "      <td>73.172545</td>\n",
       "    </tr>\n",
       "    <tr>\n",
       "      <th>1</th>\n",
       "      <td>98</td>\n",
       "      <td>112.112818</td>\n",
       "      <td>14.112818</td>\n",
       "    </tr>\n",
       "    <tr>\n",
       "      <th>2</th>\n",
       "      <td>69</td>\n",
       "      <td>31.705312</td>\n",
       "      <td>-37.294688</td>\n",
       "    </tr>\n",
       "    <tr>\n",
       "      <th>3</th>\n",
       "      <td>82</td>\n",
       "      <td>98.867909</td>\n",
       "      <td>16.867909</td>\n",
       "    </tr>\n",
       "    <tr>\n",
       "      <th>4</th>\n",
       "      <td>91</td>\n",
       "      <td>62.987171</td>\n",
       "      <td>-28.012829</td>\n",
       "    </tr>\n",
       "  </tbody>\n",
       "</table>\n",
       "</div>"
      ],
      "text/plain": [
       "   true   predicted       diff\n",
       "0   112  185.172545  73.172545\n",
       "1    98  112.112818  14.112818\n",
       "2    69   31.705312 -37.294688\n",
       "3    82   98.867909  16.867909\n",
       "4    91   62.987171 -28.012829"
      ]
     },
     "execution_count": 197,
     "metadata": {},
     "output_type": "execute_result"
    }
   ],
   "source": [
    "df1['diff'] = df1['predicted']-df1['true']\n",
    "df1.head()"
   ]
  },
  {
   "cell_type": "code",
   "execution_count": 229,
   "metadata": {},
   "outputs": [],
   "source": [
    "from sklearn import linear_model\n",
    "from sklearn.naive_bayes import GaussianNB\n",
    "from sklearn.neighbors import NearestNeighbors\n",
    "from sklearn import svm\n",
    "Lasso = linear_model.Lasso(alpha=0.1)\n",
    "BayesRidge = linear_model.BayesianRidge()\n",
    "Lasso = linear_model.LassoLars(alpha=.1, normalize=False)\n",
    "gnb = GaussianNB()\n",
    "SVM = svm.SVR()"
   ]
  },
  {
   "cell_type": "code",
   "execution_count": 269,
   "metadata": {},
   "outputs": [
    {
     "data": {
      "text/plain": [
       "SVR()"
      ]
     },
     "execution_count": 269,
     "metadata": {},
     "output_type": "execute_result"
    }
   ],
   "source": [
    "Lasso.fit(X_train_lisssed,train_ttf)\n",
    "BayesRidge.fit(X_train_lisssed,train_ttf)\n",
    "\n",
    "\n",
    "gnb.fit(X_train_lisssed,train_ttf)\n",
    "\n",
    "SVM.fit(X_train_lisssed,train_ttf)\n"
   ]
  },
  {
   "cell_type": "code",
   "execution_count": 233,
   "metadata": {},
   "outputs": [
    {
     "data": {
      "text/plain": [
       "array([[  31.  , 1398.91,  554.42,   47.23,  521.79],\n",
       "       [  49.  , 1410.83,  553.52,   47.67,  521.74],\n",
       "       [ 126.  , 1418.89,  552.59,   47.88,  520.83],\n",
       "       [ 106.  , 1406.88,  552.64,   47.65,  521.88],\n",
       "       [  98.  , 1419.36,  553.29,   47.46,  521.  ],\n",
       "       [ 105.  , 1404.49,  553.73,   47.51,  521.56],\n",
       "       [ 160.  , 1413.57,  553.42,   47.32,  522.32],\n",
       "       [ 166.  , 1413.89,  553.51,   47.59,  520.53],\n",
       "       [  55.  , 1410.27,  552.58,   47.58,  521.65],\n",
       "       [ 192.  , 1398.99,  552.88,   47.59,  521.82],\n",
       "       [  83.  , 1414.22,  552.8 ,   47.67,  520.74],\n",
       "       [ 217.  , 1409.64,  553.36,   47.37,  522.03],\n",
       "       [ 195.  , 1414.51,  553.28,   47.52,  521.3 ],\n",
       "       [  46.  , 1408.35,  553.75,   47.57,  520.66],\n",
       "       [  76.  , 1400.61,  554.08,   47.25,  522.12],\n",
       "       [ 113.  , 1401.  ,  554.6 ,   47.37,  521.77],\n",
       "       [ 165.  , 1412.54,  553.49,   47.55,  521.52],\n",
       "       [ 133.  , 1419.18,  553.36,   47.7 ,  521.06],\n",
       "       [ 135.  , 1406.32,  553.87,   47.35,  521.48],\n",
       "       [ 184.  , 1419.6 ,  552.19,   48.13,  520.64],\n",
       "       [ 148.  , 1403.77,  553.86,   47.46,  522.02],\n",
       "       [  39.  , 1410.16,  554.04,   47.36,  521.77],\n",
       "       [ 130.  , 1403.06,  554.15,   47.22,  521.83],\n",
       "       [ 186.  , 1415.13,  553.78,   47.7 ,  520.69],\n",
       "       [  48.  , 1403.1 ,  553.55,   47.38,  521.75],\n",
       "       [  76.  , 1402.4 ,  554.45,   47.4 ,  521.93],\n",
       "       [ 140.  , 1407.16,  553.3 ,   47.44,  521.64],\n",
       "       [ 158.  , 1405.28,  553.26,   47.59,  521.63],\n",
       "       [ 171.  , 1405.88,  553.29,   47.26,  521.57],\n",
       "       [ 143.  , 1408.62,  553.01,   47.61,  521.32],\n",
       "       [ 196.  , 1420.66,  551.48,   47.78,  519.55],\n",
       "       [ 145.  , 1406.22,  553.84,   47.48,  522.3 ],\n",
       "       [  50.  , 1416.53,  553.56,   47.61,  520.95],\n",
       "       [ 203.  , 1427.49,  551.77,   48.13,  519.44],\n",
       "       [ 198.  , 1428.42,  551.76,   48.1 ,  519.81],\n",
       "       [ 126.  , 1418.98,  552.32,   47.94,  520.01],\n",
       "       [ 121.  , 1413.38,  552.56,   47.69,  520.69],\n",
       "       [ 125.  , 1404.91,  553.09,   47.86,  520.91],\n",
       "       [  37.  , 1402.17,  554.03,   47.2 ,  521.94],\n",
       "       [ 133.  , 1420.48,  552.57,   47.84,  520.41],\n",
       "       [ 123.  , 1416.76,  553.02,   47.64,  520.61],\n",
       "       [ 156.  , 1425.12,  550.94,   47.89,  520.54],\n",
       "       [ 172.  , 1418.4 ,  552.25,   47.6 ,  520.86],\n",
       "       [  54.  , 1415.29,  552.97,   47.52,  521.73],\n",
       "       [ 152.  , 1410.33,  553.2 ,   47.57,  520.76],\n",
       "       [ 146.  , 1413.17,  552.73,   47.74,  520.97],\n",
       "       [  73.  , 1402.79,  553.05,   47.44,  521.29],\n",
       "       [  78.  , 1402.73,  553.83,   47.7 ,  522.03],\n",
       "       [ 303.  , 1425.3 ,  552.  ,   48.01,  520.27],\n",
       "       [  74.  , 1397.65,  553.18,   47.5 ,  521.91],\n",
       "       [ 144.  , 1406.6 ,  553.58,   47.5 ,  521.25],\n",
       "       [ 189.  , 1412.05,  553.19,   47.55,  521.27],\n",
       "       [ 164.  , 1418.18,  553.09,   47.75,  520.98],\n",
       "       [ 121.  , 1399.84,  555.07,   47.34,  522.28],\n",
       "       [ 113.  , 1399.63,  553.37,   47.5 ,  521.92],\n",
       "       [ 136.  , 1416.85,  551.45,   48.02,  520.  ],\n",
       "       [ 160.  , 1411.95,  552.43,   47.59,  521.61],\n",
       "       [ 176.  , 1418.42,  553.07,   47.78,  521.2 ],\n",
       "       [  94.  , 1401.21,  553.72,   47.08,  521.78],\n",
       "       [ 147.  , 1402.77,  553.31,   47.53,  521.66],\n",
       "       [ 159.  , 1414.17,  552.74,   47.81,  520.97],\n",
       "       [ 232.  , 1407.86,  553.81,   47.52,  521.2 ],\n",
       "       [ 155.  , 1412.74,  552.8 ,   47.79,  521.17],\n",
       "       [ 168.  , 1417.14,  552.05,   47.73,  520.97],\n",
       "       [  71.  , 1398.17,  554.39,   47.1 ,  522.65],\n",
       "       [ 147.  , 1422.98,  552.06,   47.92,  520.75],\n",
       "       [  71.  , 1409.97,  554.52,   47.27,  521.75],\n",
       "       [ 187.  , 1427.25,  552.  ,   48.04,  520.47],\n",
       "       [  54.  , 1403.96,  553.66,   47.37,  521.84],\n",
       "       [ 152.  , 1406.49,  553.01,   47.67,  521.65],\n",
       "       [  68.  , 1400.97,  553.17,   47.35,  522.42],\n",
       "       [ 131.  , 1410.57,  553.52,   47.69,  521.47],\n",
       "       [ 112.  , 1398.62,  554.41,   47.25,  522.02],\n",
       "       [ 137.  , 1406.15,  552.44,   47.54,  521.39],\n",
       "       [  88.  , 1403.3 ,  554.11,   47.4 ,  521.52],\n",
       "       [ 205.  , 1420.07,  551.82,   48.04,  520.19],\n",
       "       [ 162.  , 1418.62,  552.24,   47.81,  520.16],\n",
       "       [  72.  , 1389.33,  554.93,   47.2 ,  522.51],\n",
       "       [ 101.  , 1405.39,  553.4 ,   47.66,  521.55],\n",
       "       [ 133.  , 1407.15,  552.63,   47.57,  521.05],\n",
       "       [ 213.  , 1427.83,  551.53,   48.11,  519.67],\n",
       "       [ 162.  , 1427.69,  551.15,   48.08,  520.02],\n",
       "       [  73.  , 1406.9 ,  553.87,   47.2 ,  521.67],\n",
       "       [ 172.  , 1412.73,  552.47,   47.6 ,  520.88],\n",
       "       [  34.  , 1413.22,  553.55,   47.73,  521.43],\n",
       "       [ 110.  , 1404.83,  553.65,   47.52,  521.52],\n",
       "       [  56.  , 1391.48,  554.39,   47.4 ,  522.15],\n",
       "       [  68.  , 1405.22,  553.68,   47.39,  521.69],\n",
       "       [ 177.  , 1407.43,  553.18,   47.36,  521.47],\n",
       "       [ 146.  , 1418.85,  552.31,   48.  ,  521.32],\n",
       "       [ 234.  , 1419.74,  552.22,   48.01,  520.96],\n",
       "       [ 150.  , 1414.07,  550.88,   47.98,  520.17],\n",
       "       [ 244.  , 1416.19,  552.86,   47.67,  520.66],\n",
       "       [ 133.  , 1420.94,  552.78,   47.81,  520.62],\n",
       "       [  89.  , 1398.61,  553.47,   47.42,  521.95],\n",
       "       [  97.  , 1397.94,  553.99,   47.14,  522.3 ],\n",
       "       [ 134.  , 1410.92,  554.05,   47.38,  521.58],\n",
       "       [ 121.  , 1415.47,  553.44,   47.66,  521.53],\n",
       "       [  97.  , 1397.98,  554.75,   47.26,  521.82],\n",
       "       [ 198.  , 1424.99,  552.48,   47.8 ,  521.07]])"
      ]
     },
     "execution_count": 233,
     "metadata": {},
     "output_type": "execute_result"
    }
   ],
   "source": [
    "X_test"
   ]
  },
  {
   "cell_type": "code",
   "execution_count": 270,
   "metadata": {},
   "outputs": [],
   "source": [
    "scoreLassso = Lasso.predict(test)\n",
    "scoreBayes = BayesRidge.predict(test)\n",
    "scoregnb = gnb.predict(test)\n",
    "scoresvm= SVM.predict(test)\n"
   ]
  },
  {
   "cell_type": "code",
   "execution_count": 271,
   "metadata": {},
   "outputs": [
    {
     "name": "stdout",
     "output_type": "stream",
     "text": [
      "Gradient Boosting R-squared 34.99%\n",
      "Gradient Boosting R-squared 38.20%\n",
      "Gradient Boosting R-squared 4.05%\n",
      "Gradient Boosting R-squared 27.88%\n"
     ]
    }
   ],
   "source": [
    "from sklearn import metrics\n",
    "print(\"Gradient Boosting R-squared\", \"{:.2%}\".format(metrics.r2_score(test_ttf, scoreLassso)))\n",
    "print(\"Gradient Boosting R-squared\", \"{:.2%}\".format(metrics.r2_score(test_ttf, scoreBayes)))\n",
    "\n",
    "print(\"Gradient Boosting R-squared\", \"{:.2%}\".format(metrics.r2_score(test_ttf, scoregnb)))\n",
    "print(\"Gradient Boosting R-squared\", \"{:.2%}\".format(metrics.r2_score(test_ttf, scoresvm)))\n",
    "\n"
   ]
  },
  {
   "cell_type": "code",
   "execution_count": null,
   "metadata": {},
   "outputs": [],
   "source": [
    "print(X_train_lisssed)"
   ]
  }
 ],
 "metadata": {
  "kernelspec": {
   "display_name": "Python 3.9.13 ('base')",
   "language": "python",
   "name": "python3"
  },
  "language_info": {
   "codemirror_mode": {
    "name": "ipython",
    "version": 3
   },
   "file_extension": ".py",
   "mimetype": "text/x-python",
   "name": "python",
   "nbconvert_exporter": "python",
   "pygments_lexer": "ipython3",
   "version": "3.9.13"
  },
  "orig_nbformat": 4,
  "vscode": {
   "interpreter": {
    "hash": "cd7273889af81794276ebcb6626ef2b8c99f4d58adb2bfe7a91f2e826409d2ab"
   }
  }
 },
 "nbformat": 4,
 "nbformat_minor": 2
}
